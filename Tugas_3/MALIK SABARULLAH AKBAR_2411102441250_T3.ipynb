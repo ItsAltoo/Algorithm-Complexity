{
 "cells": [
  {
   "cell_type": "markdown",
   "id": "300b3157",
   "metadata": {},
   "source": [
    "# **Algorithm Complexity - INF1023**  \n",
    "## **Studi Kasus perbandingan**  \n",
    "### **Program Studi Teknik Informatika – Universitas Muhammadiyah Kalimantan Timur**  \n",
    "\n",
    "---\n"
   ]
  },
  {
   "cell_type": "markdown",
   "id": "8f7a7ca6",
   "metadata": {},
   "source": [
    "## Identitas Mahasiswa\n",
    "NAMA    : Malik Sabarullah Akbar\n",
    "\n",
    "NIM     :  2411102441250\n",
    "\n",
    "KELAS   : B\n",
    "\n",
    "---"
   ]
  },
  {
   "cell_type": "markdown",
   "id": "7269c1e5",
   "metadata": {},
   "source": [
    "## Notation Big O\n",
    "\n",
    "<img src='https://assets.digitalocean.com/articles/alligator/js/big-o-notation/o-complexity.png'>\n",
    "\n",
    "<img src=\"https://media.licdn.com/dms/image/v2/D4E12AQEvsKZNftrL5w/article-cover_image-shrink_720_1280/article-cover_image-shrink_720_1280/0/1734702748422?e=1762992000&v=beta&t=iX2DzTaqg3iwhH8Vjqe0-lrfjZz0xCZX4zPvaWUShyY\">\n",
    "\n",
    "# 1.Latar Belakang\n",
    "\n",
    "## Brute force\n",
    "\n",
    "- Brute force adalah metode menyelesaikan masalah dengan mencoba semua kemungkinan secara sistematis sampai menemukan jawaban yang benar.\n",
    "- Ibarat mencari kunci yang cocok dengan mencoba satu per satu dari gantungan kunci, tanpa trik atau tebakan pintar.\n",
    "\n",
    "Kapan dipakai\n",
    "- Ruang kemungkinan kecil sehingga masih masuk akal dicoba semua.\n",
    "- Butuh kepastian solusi yang pasti ditemukan jika ada.\n",
    "- Sebagai pembanding (baseline) untuk menguji keakuratan metode yang lebih canggih.\n",
    "\n",
    "\n",
    "---\n",
    "\n",
    "## Greedy\n",
    "\n",
    "Bayangkan kamu sedang berada di sebuah toko swalayan dan boleh mengambil beberapa barang dengan satu syarat: kamu harus membawa keranjang yang kapasitasnya terbatas. Tentu kamu ingin mendapatkan barang dengan total nilai setinggi mungkin, bukan?\n",
    "\n",
    "Nah, **algoritma *greedy*** bekerja persis seperti cara berpikirmu saat itu. Dalam setiap langkah, kamu akan mengambil keputusan yang **paling menguntungkan saat itu juga** tanpa memikirkan konsekuensi di masa depan. Kamu akan melihat semua barang yang ada, lalu mengambil barang yang paling berharga terlebih dahulu. Kemudian, dari sisa pilihan yang ada, kamu ambil lagi yang paling berharga, dan begitu seterusnya sampai keranjangmu penuh.\n",
    "\n",
    "Jadi, secara sederhana, **Algoritma *Greedy*** adalah metode pemecahan masalah yang membuat pilihan paling optimal secara lokal pada setiap tahap dengan harapan akan menemukan solusi optimal secara global. Kata \"*greedy*\" sendiri berarti \"rakus\" atau \"tamak\", karena algoritma ini selalu mengambil pilihan terbaik yang ada di depan mata saat itu juga.\n",
    "\n",
    "**Karakteristik utama dari algoritma *greedy*** adalah:\n",
    "\n",
    "  * **Membuat Pilihan Terbaik Saat Ini:** Pada setiap langkah, algoritma akan memilih opsi yang terlihat paling bagus pada saat itu.\n",
    "  * **Tidak Melihat ke Belakang:** Sekali keputusan diambil, algoritma tidak akan mengubahnya lagi di langkah berikutnya. Keputusan itu bersifat final.\n",
    "  * **Cepat dan Sederhana:** Biasanya, algoritma ini lebih cepat dan lebih mudah untuk diimplementasikan dibandingkan algoritma lain seperti *dynamic programming*.\n",
    "\n",
    "Namun, perlu diingat, karena sifatnya yang hanya fokus pada keuntungan sesaat, algoritma *greedy* **tidak selalu menghasilkan solusi yang paling optimal** secara keseluruhan untuk semua jenis masalah. Namun, untuk beberapa masalah tertentu, pendekatan ini terbukti sangat efektif dan efisien.\n",
    "\n",
    "---\n",
    "\n",
    "# 2.Studi kasus\n",
    "\n",
    "Coin exchange problem\n",
    "diberikan uang senilai 55 untuk ditukarkan dengan koin tersedia:\n",
    "1, 5, 10, 12, 15 dan 25\n"
   ]
  },
  {
   "cell_type": "markdown",
   "id": "ec0a49cf",
   "metadata": {},
   "source": [
    "\n",
    "## Brute force\n",
    "\n",
    "## Solusi Optimal\n",
    "cara brute force untuk menyelesaikan masalah ini adalah dengan mencoba semua kombinasi koin yang mungkin untuk mencapai jumlah 55. Berikut adalah langkah-langkahnya:\n",
    "\n",
    "1. (1+1+1+1+1+1+1+1+1+1+1+1+1+1+1+1+1+1+1+1+1+1+1+1+1+1+1+1+1+1+1+1+1+1+1+1+1+1+1+1+1+1+1+1+1+1+1+1+1+1) = 55\n",
    "2. (5+5+5+5+5+5+5+5+5+5+5) = 55\n",
    "3. (10+10+10+10+10+5) = 55\n",
    "4. (12+12+12+12+12+5) = 55\n",
    "5. (15+15+15+5+5) = 55\n",
    "6. (25+25+5) = 55\n",
    "7. (25+15+15) = 55\n",
    "8. (25+12+12+5+1) = 55\n",
    "\n",
    "Dari semua kombinasi di atas, kita dapat melihat bahwa kombinasi dengan jumlah koin paling sedikit adalah (25+25+5) yang menggunakan 3 koin. Jadi, solusi optimal untuk menukar uang senilai 55 dengan koin yang tersedia adalah menggunakan 3 koin: dua koin 25 dan satu koin 5.\n",
    "\n",
    "## Solusi Non-Optimal\n",
    "1. (10+10+10+10+10+5) = 55\n",
    "2. (15+15+15+5+5) = 55\n",
    "3. (12+12+12+12+12+5) = 55\n",
    "4. (5+5+5+5+5+5+5+5+5+5+5) = 55\n",
    "5. (1+1+1+1+1+1+1+1+1+1+1+1+1+1+1+1+1+1+1+1+1+1+1+1+1+1+1+1+1+1+1+1+1+1+1+1+1+1+1+1+1+1+1+1+1+1+1+1+1+1) = 55\n",
    "\n",
    "Dari kombinasi di atas, kita dapat melihat bahwa kombinasi dengan jumlah koin paling banyak adalah no.5 yang menggunakan 55 koin. Jadi, solusi non-optimal untuk menukar uang senilai 55 dengan koin yang tersedia adalah menggunakan 55 koin: lima puluh lima koin 1."
   ]
  },
  {
   "cell_type": "code",
   "execution_count": null,
   "id": "02a805ae",
   "metadata": {},
   "outputs": [
    {
     "name": "stdout",
     "output_type": "stream",
     "text": [
      "Target: 55\n",
      "Koin tersedia: [1, 5, 10, 12, 15, 25]\n",
      "Kombinasi optimal (jumlah koin paling sedikit): {5: 1, 25: 2}\n",
      "Daftar koin yang digunakan: [5, 25, 25]\n",
      "Total koin: 3\n",
      "Jumlah solusi valid yang diperiksa: 190\n"
     ]
    }
   ],
   "source": [
    "# Brute force untuk masalah penukaran koin\n",
    "# Target: 55, Koin tersedia: 1, 5, 10, 12, 15, 25\n",
    "\n",
    "def brute_force_coin_change(coins, target):\n",
    "    \"\"\"\n",
    "    Mencoba semua kombinasi jumlah koin untuk mencapai target.\n",
    "    Mengembalikan kombinasi optimal (jumlah koin paling sedikit), total koin, dan jumlah solusi yang diuji.\n",
    "    \"\"\"\n",
    "    n = len(coins)\n",
    "    best_combo = None\n",
    "    best_count = float(\"inf\")\n",
    "    solutions_checked = 0\n",
    "    current = [0] * n  # jumlah koin untuk tiap denominasi\n",
    "\n",
    "    def dfs(i, remaining):  # dfs: depth-first search\n",
    "        nonlocal best_combo, best_count, solutions_checked\n",
    "        if i == n:\n",
    "            return\n",
    "\n",
    "        coin = coins[i]\n",
    "        max_k = remaining // coin  # jumlah maksimal koin 'coin' yang bisa diambil\n",
    "        for k in range(max_k, -1, -1):\n",
    "            current[i] = k\n",
    "            sisa = remaining - k * coin\n",
    "            if sisa == 0:\n",
    "                solutions_checked += 1\n",
    "                total_koin = sum(current)\n",
    "                if total_koin < best_count:\n",
    "                    best_count = total_koin\n",
    "                    best_combo = current.copy()\n",
    "            elif sisa > 0 and i + 1 < n:\n",
    "                dfs(i + 1, sisa)\n",
    "\n",
    "        current[i] = 0  # reset sebelum backtrack\n",
    "\n",
    "    dfs(0, target)\n",
    "    return best_combo, best_count, solutions_checked\n",
    "\n",
    "# Data studi kasus\n",
    "coins = [1, 5, 10, 12, 15, 25]\n",
    "target = 55\n",
    "\n",
    "best_combo, best_count, checked = brute_force_coin_change(coins, target)\n",
    "\n",
    "if best_combo is None:\n",
    "    print(\"Tidak ada kombinasi koin yang mencapai target.\")\n",
    "else:\n",
    "    # Bentuk keluaran yang rapi\n",
    "    solusi_mapping = {coin: cnt for coin, cnt in zip(coins, best_combo) if cnt}\n",
    "    solusi_list = []\n",
    "    for coin, cnt in zip(coins, best_combo):\n",
    "        solusi_list.extend([coin] * cnt)\n",
    "\n",
    "    print(f\"Target: {target}\")\n",
    "    print(f\"Koin tersedia: {coins}\")\n",
    "    print(f\"Kombinasi optimal (jumlah koin paling sedikit): {solusi_mapping}\")\n",
    "    print(f\"Daftar koin yang digunakan: {solusi_list}\")\n",
    "    print(f\"Total koin: {best_count}\")\n",
    "    print(f\"Jumlah solusi valid yang diperiksa: {checked}\")"
   ]
  },
  {
   "cell_type": "code",
   "execution_count": null,
   "id": "4d7f771f",
   "metadata": {},
   "outputs": [
    {
     "name": "stdout",
     "output_type": "stream",
     "text": [
      "loop : 0\n",
      "loop : 1\n",
      "loop : 2\n",
      "loop : 3\n",
      "loop : 4\n",
      "loop : 5\n",
      "loop : 6\n",
      "loop : 7\n",
      "loop : 8\n",
      "loop : 9\n",
      "9\n"
     ]
    }
   ],
   "source": [
    "def sequential_search(arr,target) :\n",
    "    for i in range(len(arr)):\n",
    "        print(f\"loop : {i}\")\n",
    "        if arr[i] == target:\n",
    "            return i\n",
    "    \n",
    "    return -1\n",
    "\n",
    "my_arr = [29,19,29,39,49,19,294,231,534,23,55,22]\n",
    "target = 23\n",
    "\n",
    "print(sequential_search(my_arr,target))"
   ]
  },
  {
   "cell_type": "markdown",
   "id": "db503c4b",
   "metadata": {},
   "source": [
    "### Kesimpulan\n",
    "\n",
    "hal ini menunjukkan bagaimana metode brute force dapat digunakan untuk menemukan solusi optimal dengan mencoba semua kemungkinan kombinasi. Namun, perlu diingat bahwa metode ini bisa sangat tidak efisien untuk jumlah yang lebih besar atau lebih banyak jenis koin, karena jumlah kombinasi yang harus diperiksa akan meningkat secara eksponensial (O(2^n)).\n",
    "\n",
    "eksponensial (O(2^n)) adalah notasi yang digunakan dalam analisis algoritma untuk menggambarkan pertumbuhan waktu atau ruang yang dibutuhkan oleh algoritma seiring dengan peningkatan ukuran inputnya. Dalam konteks brute force, ini berarti bahwa jumlah kombinasi yang harus diperiksa akan meningkat secara eksponensial dengan bertambahnya jumlah koin atau nilai uang yang ingin ditukar."
   ]
  },
  {
   "cell_type": "markdown",
   "id": "55fd1d34",
   "metadata": {},
   "source": [
    "---\n",
    "\n",
    "## Greedy\n",
    "\n",
    "## Solusi Optimal\n",
    "cara greedy untuk menyelesaikan masalah ini adalah dengan selalu memilih koin dengan nilai tertinggi yang masih bisa digunakan tanpa melebihi jumlah yang ingin ditukar. Berikut adalah langkah-langkahnya:\n",
    "\n",
    "1. Pilih koin 25, sisa 30\n",
    "2. Pilih koin 25, sisa 5\n",
    "3. Pilih koin 5, sisa 0\n",
    "\n",
    "Dengan langkah-langkah di atas, kita dapat melihat bahwa kombinasi koin yang digunakan adalah (25+25+5) yang menggunakan 3 koin. Jadi, solusi optimal untuk menukar uang senilai 55 dengan koin yang tersedia adalah menggunakan 3 koin: dua koin 25 dan satu koin 5.\n",
    "\n",
    "<br>"
   ]
  },
  {
   "cell_type": "code",
   "execution_count": 2,
   "id": "e205811e",
   "metadata": {},
   "outputs": [
    {
     "name": "stdout",
     "output_type": "stream",
     "text": [
      "Memberikan kembalian sebesar: Rp 55\n",
      "Koin yang diberikan adalah: [25, 25, 5]\n",
      "Total jumlah koin: 3 koin\n"
     ]
    }
   ],
   "source": [
    "jumlah_kembalian = 55  \n",
    "\n",
    "def penukaran_uang_greedy(kembalian, koin=None):\n",
    "    \"\"\"\n",
    "    Cari jumlah koin minimum (greedy dengan koin urut menurun).\n",
    "    \"\"\"\n",
    "    if koin is None:\n",
    "        try:\n",
    "            koin = coins  # gunakan variabel coins yang sudah ada\n",
    "        except NameError:\n",
    "            koin = [1, 5, 10, 12, 15, 25]\n",
    "\n",
    "    koin = sorted(koin, reverse=True)\n",
    "    hasil_penukaran = []\n",
    "    sisa = kembalian\n",
    "\n",
    "    print(f\"Memberikan kembalian sebesar: Rp {kembalian}\")\n",
    "\n",
    "    for nilai_koin in koin:\n",
    "        if sisa == 0:\n",
    "            break\n",
    "        jumlah = sisa // nilai_koin\n",
    "        if jumlah:\n",
    "            hasil_penukaran.extend([nilai_koin] * jumlah)\n",
    "            sisa -= jumlah * nilai_koin\n",
    "\n",
    "    return hasil_penukaran\n",
    "\n",
    "# Gunakan jumlah_kembalian yang sudah didefinisikan\n",
    "koin_yang_diberikan = penukaran_uang_greedy(jumlah_kembalian)\n",
    "print(f\"Koin yang diberikan adalah: {koin_yang_diberikan}\")\n",
    "print(f\"Total jumlah koin: {len(koin_yang_diberikan)} koin\")"
   ]
  },
  {
   "cell_type": "code",
   "execution_count": null,
   "id": "7e835a33",
   "metadata": {},
   "outputs": [
    {
     "name": "stdout",
     "output_type": "stream",
     "text": [
      "\n",
      "Pendekatan Greedy:\n",
      "Kombinasi koin yang digunakan: [25, 25, 5]\n",
      "Total koin yang digunakan: 3\n",
      "Jumlah solusi yang diuji: 3\n"
     ]
    }
   ],
   "source": [
    "def greedy_coin_change(coins, target):\n",
    "    \"\"\"\n",
    "    Pendekatan greedy untuk masalah penukaran koin.\n",
    "    Mengembalikan kombinasi koin yang digunakan, total koin, dan jumlah solusi yang diuji.\n",
    "    \"\"\"\n",
    "    coins = sorted(coins, reverse=True)\n",
    "    combination = []\n",
    "    remaining = target\n",
    "    solutions_checked = 0\n",
    "\n",
    "    for coin in coins:\n",
    "        while remaining >= coin:\n",
    "            combination.append(coin)\n",
    "            remaining -= coin\n",
    "            solutions_checked += 1\n",
    "\n",
    "    if remaining != 0:\n",
    "        return None, float(\"inf\"), solutions_checked  # Tidak ada solusi\n",
    "\n",
    "    return combination, len(combination), solutions_checked\n",
    "\n",
    "\n",
    "coins = [1, 5, 10, 12, 15, 25]\n",
    "target = 55\n",
    "\n",
    "best_combo_greedy, best_count_greedy, checked_greedy = greedy_coin_change(coins, target)\n",
    "\n",
    "print(\"\\nPendekatan Greedy:\")\n",
    "if best_combo_greedy is None:\n",
    "    print(\"Tidak ada kombinasi koin yang mencapai target.\")\n",
    "else:\n",
    "    print(\"Kombinasi koin yang digunakan:\", best_combo_greedy)\n",
    "    print(\"Total koin yang digunakan:\", best_count_greedy)\n",
    "    print(\"Jumlah solusi yang diuji:\", checked_greedy)"
   ]
  },
  {
   "cell_type": "markdown",
   "id": "30765a3e",
   "metadata": {},
   "source": [
    "### Kesimpulan\n",
    "\n",
    "Metode greedy ini sangat efisien karena hanya memerlukan waktu linier (O(n)) untuk menemukan solusi, di mana n adalah jumlah jenis koin yang tersedia. Namun, perlu diingat bahwa metode greedy tidak selalu menghasilkan solusi optimal untuk semua jenis masalah, tetapi dalam kasus ini, metode greedy berhasil menemukan solusi optimal."
   ]
  }
 ],
 "metadata": {
  "kernelspec": {
   "display_name": ".venv",
   "language": "python",
   "name": "python3"
  },
  "language_info": {
   "codemirror_mode": {
    "name": "ipython",
    "version": 3
   },
   "file_extension": ".py",
   "mimetype": "text/x-python",
   "name": "python",
   "nbconvert_exporter": "python",
   "pygments_lexer": "ipython3",
   "version": "3.10.6"
  }
 },
 "nbformat": 4,
 "nbformat_minor": 5
}
