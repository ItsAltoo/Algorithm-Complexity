{
 "cells": [
  {
   "cell_type": "markdown",
   "id": "ffe6826d",
   "metadata": {},
   "source": [
    "***2411102441250 - Malik Sabarullah Akbar***\n",
    "\n",
    "---\n",
    "# Brute Force\n",
    "\n",
    "Pengertian\n",
    "- Brute force adalah metode menyelesaikan masalah dengan mencoba semua kemungkinan secara sistematis sampai menemukan jawaban yang benar.\n",
    "- Ibarat mencari kunci yang cocok dengan mencoba satu per satu dari gantungan kunci, tanpa trik atau tebakan pintar.\n",
    "\n",
    "Kapan dipakai\n",
    "- Ruang kemungkinan kecil sehingga masih masuk akal dicoba semua.\n",
    "- Butuh kepastian solusi yang pasti ditemukan jika ada.\n",
    "- Sebagai pembanding (baseline) untuk menguji keakuratan metode yang lebih canggih.\n",
    "\n",
    "Kelebihan\n",
    "- Sederhana, mudah dipahami dan diimplementasikan.\n",
    "- Dijamin menemukan solusi jika memang ada (lengkap).\n",
    "\n",
    "Kekurangan\n",
    "- Lambat jika kemungkinan sangat banyak; waktu bertambah cepat seiring ukuran masalah.\n",
    "- Boros sumber daya (waktu/komputasi).\n",
    "\n",
    "Contoh 1 (Matematis): Mengecek apakah suatu bilangan adalah prima\n",
    "- Masalah: Apakah 29 bilangan prima?\n",
    "- Brute force: Coba bagi 29 dengan semua bilangan 2 sampai 28, jika tidak ada yang membagi habis maka 29 prima.\n",
    "- Perhitungan kunci:\n",
    "    - 29 % 2 = 1\n",
    "    - 29 % 3 = 2\n",
    "    - 29 % 4 = 1\n",
    "    - 29 % 5 = 4\n",
    "    - ...\n",
    "    - Tidak ada sisa 0 → 29 adalah bilangan prima.\n",
    "- Catatan: Optimalisasi umum tetap “brute force” idenya, tetapi hanya perlu mencoba sampai √29 ≈ 5.38, yaitu 2, 3, 4, 5.\n",
    "\n",
    "Contoh 2 (Matematis): Mencari dua angka yang jumlahnya sama dengan target\n",
    "- Masalah: Diberi daftar [1, 4, 5, 7] dan target 9. Adakah pasangan yang jumlahnya 9?\n",
    "- Brute force: Coba semua pasangan dua angka:\n",
    "    - (1, 4) → 5\n",
    "    - (1, 5) → 6\n",
    "    - (1, 7) → 8\n",
    "    - (4, 5) → 9 → ditemukan\n",
    "    - (4, 7) → 11\n",
    "    - (5, 7) → 12\n",
    "- Jawaban: Pasangan (4, 5) menjumlah 9."
   ]
  }
 ],
 "metadata": {
  "kernelspec": {
   "display_name": ".venv",
   "language": "python",
   "name": "python3"
  },
  "language_info": {
   "codemirror_mode": {
    "name": "ipython",
    "version": 3
   },
   "file_extension": ".py",
   "mimetype": "text/x-python",
   "name": "python",
   "nbconvert_exporter": "python",
   "pygments_lexer": "ipython3",
   "version": "3.10.6"
  }
 },
 "nbformat": 4,
 "nbformat_minor": 5
}
