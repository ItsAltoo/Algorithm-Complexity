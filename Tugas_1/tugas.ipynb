{
 "cells": [
  {
   "cell_type": "markdown",
   "id": "e9902b32",
   "metadata": {},
   "source": [
    "```python\n",
    "function linearSearch(array, target):\n",
    "    for i from 0 to length(array)-1:\n",
    "        if array[i] == target:\n",
    "            return i\n",
    "    return -1\n",
    "\n",
    "procedure linear_search (list, value)\n",
    "   for each item in the list\n",
    "      if match item == value\n",
    "         return the item's location\n",
    "      end if\n",
    "   end for\n",
    "end procedure\n",
    "\n",
    "```"
   ]
  },
  {
   "cell_type": "code",
   "execution_count": 7,
   "id": "77ddc06a",
   "metadata": {},
   "outputs": [
    {
     "name": "stdout",
     "output_type": "stream",
     "text": [
      "3\n",
      "Waktu eksekusi: 0.0009703636169433594 detik\n"
     ]
    }
   ],
   "source": [
    "import time\n",
    "\n",
    "data = [10,420,23,2,64,12,53,623,123213,90,3,4,55,12]\n",
    "\n",
    "def linear_search(arr, target):\n",
    "    for i in range(len(arr)):\n",
    "        if arr[i] == target:\n",
    "            return i\n",
    "    return -1\n",
    "\n",
    "start = time.time()\n",
    "print(linear_search(data, 2))\n",
    "end = time.time()\n",
    "print(\"Waktu eksekusi:\", end - start, \"detik\")\n"
   ]
  }
 ],
 "metadata": {
  "kernelspec": {
   "display_name": ".venv",
   "language": "python",
   "name": "python3"
  },
  "language_info": {
   "codemirror_mode": {
    "name": "ipython",
    "version": 3
   },
   "file_extension": ".py",
   "mimetype": "text/x-python",
   "name": "python",
   "nbconvert_exporter": "python",
   "pygments_lexer": "ipython3",
   "version": "3.10.6"
  }
 },
 "nbformat": 4,
 "nbformat_minor": 5
}
